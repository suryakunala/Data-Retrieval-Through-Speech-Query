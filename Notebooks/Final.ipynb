{
 "cells": [
  {
   "cell_type": "markdown",
   "metadata": {},
   "source": [
    "# Data Retrieval through Speech Query"
   ]
  },
  {
   "cell_type": "markdown",
   "metadata": {},
   "source": [
    "### Import all the dependencies needed for execution"
   ]
  },
  {
   "cell_type": "code",
   "execution_count": 16,
   "metadata": {},
   "outputs": [],
   "source": [
    "from tkinter import *\n",
    "import tkinter\n",
    "import speech_recognition as sr\n",
    "import pyaudio\n",
    "import torch_scatter\n",
    "import transformers\n",
    "from transformers import TapasConfig,TapasTokenizer,TapasModel,TapasForQuestionAnswering\n",
    "import torch\n",
    "import numpy as np\n",
    "import pandas as pd\n",
    "import time\n",
    "from IPython.display import HTML, display"
   ]
  },
  {
   "cell_type": "markdown",
   "metadata": {},
   "source": [
    "### Read testdata to table"
   ]
  },
  {
   "cell_type": "code",
   "execution_count": 19,
   "metadata": {
    "scrolled": true
   },
   "outputs": [
    {
     "data": {
      "text/html": [
       "<div>\n",
       "<style scoped>\n",
       "    .dataframe tbody tr th:only-of-type {\n",
       "        vertical-align: middle;\n",
       "    }\n",
       "\n",
       "    .dataframe tbody tr th {\n",
       "        vertical-align: top;\n",
       "    }\n",
       "\n",
       "    .dataframe thead th {\n",
       "        text-align: right;\n",
       "    }\n",
       "</style>\n",
       "<table border=\"1\" class=\"dataframe\">\n",
       "  <thead>\n",
       "    <tr style=\"text-align: right;\">\n",
       "      <th></th>\n",
       "      <th>Season</th>\n",
       "      <th>Driver</th>\n",
       "      <th>Team</th>\n",
       "      <th>Engine</th>\n",
       "      <th>Poles</th>\n",
       "      <th>Wins</th>\n",
       "      <th>Podiums</th>\n",
       "      <th>Points</th>\n",
       "      <th>Marginofdefeat</th>\n",
       "    </tr>\n",
       "  </thead>\n",
       "  <tbody>\n",
       "    <tr>\n",
       "      <th>57</th>\n",
       "      <td>2007</td>\n",
       "      <td>LewisHamilton</td>\n",
       "      <td>McLaren</td>\n",
       "      <td>Mercedes</td>\n",
       "      <td>6</td>\n",
       "      <td>4</td>\n",
       "      <td>12</td>\n",
       "      <td>109.0</td>\n",
       "      <td>1.0</td>\n",
       "    </tr>\n",
       "    <tr>\n",
       "      <th>58</th>\n",
       "      <td>2008</td>\n",
       "      <td>FelipeMassa</td>\n",
       "      <td>Ferrari</td>\n",
       "      <td>Ferrari</td>\n",
       "      <td>6</td>\n",
       "      <td>6</td>\n",
       "      <td>10</td>\n",
       "      <td>97.0</td>\n",
       "      <td>1.0</td>\n",
       "    </tr>\n",
       "    <tr>\n",
       "      <th>59</th>\n",
       "      <td>2009</td>\n",
       "      <td>SebastianVettel</td>\n",
       "      <td>RedBull</td>\n",
       "      <td>Renault</td>\n",
       "      <td>4</td>\n",
       "      <td>4</td>\n",
       "      <td>8</td>\n",
       "      <td>84.0</td>\n",
       "      <td>11.0</td>\n",
       "    </tr>\n",
       "    <tr>\n",
       "      <th>60</th>\n",
       "      <td>2010</td>\n",
       "      <td>FernandoAlonso</td>\n",
       "      <td>Ferrari</td>\n",
       "      <td>Ferrari</td>\n",
       "      <td>2</td>\n",
       "      <td>5</td>\n",
       "      <td>10</td>\n",
       "      <td>252.0</td>\n",
       "      <td>4.0</td>\n",
       "    </tr>\n",
       "    <tr>\n",
       "      <th>61</th>\n",
       "      <td>2011</td>\n",
       "      <td>JensonButton</td>\n",
       "      <td>McLaren</td>\n",
       "      <td>Mercedes</td>\n",
       "      <td>0</td>\n",
       "      <td>3</td>\n",
       "      <td>12</td>\n",
       "      <td>270.0</td>\n",
       "      <td>122.0</td>\n",
       "    </tr>\n",
       "  </tbody>\n",
       "</table>\n",
       "</div>"
      ],
      "text/plain": [
       "   Season           Driver     Team    Engine Poles Wins Podiums Points  \\\n",
       "57   2007    LewisHamilton  McLaren  Mercedes     6    4      12  109.0   \n",
       "58   2008      FelipeMassa  Ferrari   Ferrari     6    6      10   97.0   \n",
       "59   2009  SebastianVettel  RedBull   Renault     4    4       8   84.0   \n",
       "60   2010   FernandoAlonso  Ferrari   Ferrari     2    5      10  252.0   \n",
       "61   2011     JensonButton  McLaren  Mercedes     0    3      12  270.0   \n",
       "\n",
       "   Marginofdefeat  \n",
       "57            1.0  \n",
       "58            1.0  \n",
       "59           11.0  \n",
       "60            4.0  \n",
       "61          122.0  "
      ]
     },
     "execution_count": 19,
     "metadata": {},
     "output_type": "execute_result"
    }
   ],
   "source": [
    "table=pd.read_csv('data1.csv').applymap(str)\n",
    "table.tail()"
   ]
  },
  {
   "cell_type": "markdown",
   "metadata": {},
   "source": [
    "## Weakly Supervised Table Parsing via pre-training\n",
    "<i>Answering natural language questions over tables is usually seen as a semantic parsing task</i>. To alleviate the collection cost of full logical forms, one popular approach focuses on weak supervision consisting of denotations instead of logical forms. However, training semantic parsers from weak supervision poses difficulties, and in addition, the generated logical forms are only used as an intermediate step prior to retrieving the denotation. In this paper, we present TAPAS, an approach to question answering over tables without generating logical forms. TAPAS trains from weak supervision, and predicts the denotation by selecting table cells and optionally applying a corresponding aggregation operator to such selection. TAPAS extends BERT’s architecture to encode tables as input, initializes from an effective joint pre-training of text segments and tables crawled from Wikipedia, and is trained end-to-end.<br><br>\n",
    "TAPAS is similar to BERT and therefore relies on the masked language modeling (MLM) objective. It is therefore efficient at predicting masked tokens and at NLU in general, but is not optimal for text generation. Models trained with a causal language modeling (CLM) objective are better in that regard.\n",
    "TAPAS has checkpoints fine-tuned on SQA, which are capable of answering questions related to a table in a conversational set-up. This means that you can ask follow-up questions such as “what is his age?” related to the previous question. Note that the forward pass of TAPAS is a bit different in case of a conversational set-up: in that case, you have to feed every table-question pair one by one to the model, such that the prev_labels token type ids can be overwritten by the predicted labels of the model to the previous question."
   ]
  },
  {
   "cell_type": "code",
   "execution_count": 20,
   "metadata": {},
   "outputs": [],
   "source": [
    "modelName='google/tapas-base-finetuned-wtq'\n",
    "tokenizer=TapasTokenizer.from_pretrained(modelName)\n",
    "model=TapasForQuestionAnswering.from_pretrained(modelName)"
   ]
  },
  {
   "cell_type": "markdown",
   "metadata": {},
   "source": [
    "Only three type of aggregations are classified in this model\n",
    "<ul><li>SUM</li><li>AVERAGE</li><li>COUNT</li></ul>"
   ]
  },
  {
   "cell_type": "code",
   "execution_count": 22,
   "metadata": {},
   "outputs": [],
   "source": [
    "def qu(queries):\n",
    "    inputs = tokenizer(table=table, queries=queries, padding=\"max_length\", return_tensors=\"pt\")\n",
    "    outputs=model(**inputs)\n",
    "    predicted_answer_coordinates,predicted_answer_operators=tokenizer.convert_logits_to_predictions(inputs,outputs.logits.detach(),outputs.logits_aggregation.detach())\n",
    "    id2aggregation = {0: \"NONE\", 1: \"SUM\", 2: \"AVERAGE\", 3:\"COUNT\"}\n",
    "    aggregation_predictions_string = [id2aggregation[x] for x in predicted_answer_operators]\n",
    "    answers=[]\n",
    "    for coordinates in predicted_answer_coordinates:\n",
    "        if len(coordinates) == 1:\n",
    "        # only a single cell:\n",
    "            answers.append(table.iat[coordinates[0]])\n",
    "        else:\n",
    "            cell_values = []\n",
    "            for coordinate in coordinates:\n",
    "                cell_values.append(table.iat[coordinate])\n",
    "            answers.append(\", \".join(cell_values))\n",
    "    for query, answer, predicted_agg in zip(queries, answers, aggregation_predictions_string):\n",
    "        print(query)\n",
    "        print(answer)\n",
    "        if predicted_agg == \"NONE\":\n",
    "            answer=answer\n",
    "        elif predicted_agg=='SUM':\n",
    "            an=0\n",
    "            ans=answer.split(',')\n",
    "            for v in ans:\n",
    "                an=an+float(v)\n",
    "            answer=an\n",
    "        elif predicted_agg=='AVERAGE':\n",
    "            an=0\n",
    "            ns=answer.split(',')\n",
    "            for v in ns:\n",
    "                an=an+float(v)\n",
    "            answer=an//len(ns)\n",
    "        else:\n",
    "            ans=[str(x) for x in answer.split(',')]\n",
    "            answer=len(set(ans))\n",
    "            print(set(ans))\n",
    "    co=f'Predicted Answer :- {answer}'\n",
    "    label3=Label(frame,text=co,font=('ARIAL',16))\n",
    "    label3.place(x=20,y=400)\n",
    "    #print(co)\n",
    "    #win.mainloop()\n",
    "def listenfunc():\n",
    "    q=[]\n",
    "    recognizer=sr.Recognizer()\n",
    "    with sr.Microphone() as source:\n",
    "        recognizer.adjust_for_ambient_noise(source)\n",
    "        print('Listening...')\n",
    "        audio = recognizer.listen(source)\n",
    "        try:\n",
    "            print('Recognizing...')\n",
    "            command = recognizer.recognize_google(audio)\n",
    "        except:\n",
    "            command = \"couldn't recognize you\"\n",
    "    ss=f'Initial Input:{command}'\n",
    "    label2=Label(frame,text=ss,font=('ARIAL',16))\n",
    "    label2.place(x=20,y=250)\n",
    "    q.append(command)\n",
    "    qu(q)\n",
    "def hellfunc():\n",
    "    but2=Button(frame,text='start listening',font=('ARIAL',12),width=20,height=1,bg='green',command=listenfunc)\n",
    "    but2.place(x=400,y=170)"
   ]
  },
  {
   "cell_type": "markdown",
   "metadata": {},
   "source": [
    "### Run all the above cells once and when you are ready to speak to database,run the following cell.\n",
    "When you the run below cell,an interface will open on your screen<br>\n",
    "please click <b>ASK ME</b> button<br>\n",
    "when you are ready to speak to model(formulate a question corresponding to test data table)<br>\n",
    "click <b>Start Listening</b>button<br>\n",
    "wait for 2 seconds(mean time to set ambient noise)<br>\n",
    "start speaking to model(please ensure you have given access to microphone device and make sure its working properly)<br>\n",
    "Within a span of 2 seconds of phrase timeout ,model will stop lisening and will start recognizing and conversion of voice input.<br>\n",
    "If everything went well you can see a input and predicted output on the interface(hopefully true output) and if you want to test again,close the interface and run the below cell again else try again\n",
    "<img src='k.png'>"
   ]
  },
  {
   "cell_type": "code",
   "execution_count": 30,
   "metadata": {
    "scrolled": true
   },
   "outputs": [
    {
     "name": "stdout",
     "output_type": "stream",
     "text": [
      "Listening...\n",
      "Recognizing...\n",
      "driver in 2007\n",
      "LewisHamilton\n"
     ]
    }
   ],
   "source": [
    "win=tkinter.Tk()\n",
    "frame=Frame(win,width=1000,height=600)\n",
    "frame.pack()\n",
    "var=StringVar()\n",
    "lab1=Label(win,text='Data Retrieval through Speech Query',font=('ARIAL',25))\n",
    "lab1.place(x=200,y=30)\n",
    "but1=Button(win,text='ASK ME',font=('ARIAL',15),width=40,height=2,bg='orange',command=hellfunc)\n",
    "but1.place(x=250,y=100)\n",
    "win.title('FinalDemo')\n",
    "win.mainloop()"
   ]
  },
  {
   "cell_type": "markdown",
   "metadata": {},
   "source": [
    "## That's it for this sample demo----Thankyou----"
   ]
  },
  {
   "cell_type": "code",
   "execution_count": null,
   "metadata": {},
   "outputs": [],
   "source": []
  }
 ],
 "metadata": {
  "kernelspec": {
   "display_name": "Python 3",
   "language": "python",
   "name": "python3"
  },
  "language_info": {
   "codemirror_mode": {
    "name": "ipython",
    "version": 3
   },
   "file_extension": ".py",
   "mimetype": "text/x-python",
   "name": "python",
   "nbconvert_exporter": "python",
   "pygments_lexer": "ipython3",
   "version": "3.8.5"
  }
 },
 "nbformat": 4,
 "nbformat_minor": 4
}
